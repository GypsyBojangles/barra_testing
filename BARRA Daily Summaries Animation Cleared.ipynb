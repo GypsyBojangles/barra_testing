{
 "cells": [
  {
   "cell_type": "code",
   "execution_count": null,
   "metadata": {},
   "outputs": [],
   "source": [
    "import datacube\n",
    "import matplotlib.pyplot as plt\n",
    "import DEAPlotting\n",
    "from IPython.display import Image\n",
    "from datacube.helpers import write_geotiff"
   ]
  },
  {
   "cell_type": "code",
   "execution_count": null,
   "metadata": {},
   "outputs": [],
   "source": [
    "# you will need a datacube confing:\n",
    "config = {\n",
    "    'db_hostname': 'agdcdev-db.nci.org.au',\n",
    "    'db_port': 6432,\n",
    "    'db_database': 'dg6911'\n",
    "}\n",
    "dc = datacube.Datacube(config=config)"
   ]
  },
  {
   "cell_type": "code",
   "execution_count": null,
   "metadata": {},
   "outputs": [],
   "source": [
    "#roughly Australia\n",
    "query = {}\n",
    "query['latitude'] = (-44,-9)\n",
    "query['longitude'] = (113,154)"
   ]
  },
  {
   "cell_type": "code",
   "execution_count": null,
   "metadata": {},
   "outputs": [],
   "source": [
    "accum_prcp = dc.load(product='accum_prcp_daily', time=('2016','2018'), **query)"
   ]
  },
  {
   "cell_type": "code",
   "execution_count": null,
   "metadata": {},
   "outputs": [],
   "source": [
    "DEAPlotting.animated_timeseries(ds=accum_prcp, output_path='animated_timeseries20162018.gif',\n",
    "                                width_pixels=700, bands=['accum_prcp'], \n",
    "                                title='mm', interval=80,\n",
    "                                x_dim='longitude',y_dim='latitude',\n",
    "                                onebandplot_kwargs={'cmap':'PuBu', 'vmin':0, 'vmax':100},\n",
    "                                percentile_stretch=(0.2, 0.98)) \n",
    "\n",
    "\n",
    "# Plot animated gif\n",
    "plt.close()\n",
    "Image(filename='animated_timeseries20162018.gif')"
   ]
  }
 ],
 "metadata": {
  "kernelspec": {
   "display_name": "Python 3",
   "language": "python",
   "name": "python3"
  },
  "language_info": {
   "codemirror_mode": {
    "name": "ipython",
    "version": 3
   },
   "file_extension": ".py",
   "mimetype": "text/x-python",
   "name": "python",
   "nbconvert_exporter": "python",
   "pygments_lexer": "ipython3",
   "version": "3.6.7"
  }
 },
 "nbformat": 4,
 "nbformat_minor": 2
}
