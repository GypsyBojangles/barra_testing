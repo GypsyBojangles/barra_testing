{
 "cells": [
  {
   "cell_type": "markdown",
   "metadata": {},
   "source": [
    "# BARRA <> DEA example notebook"
   ]
  },
  {
   "cell_type": "markdown",
   "metadata": {},
   "source": [
    "This is a prototype notebook demonstrating the use of BARRA reanalysis data, specifically\n",
    "the BARRA-R^1 'accum_prcp'^2 variable.\n",
    "\n",
    "To be able to execute this notebook, you will need to have completed a \"licence schedule\" outlining\n",
    "the usage rights to BARRA data, as well as requesting access to the NCI project 'ma05'.\n",
    "\n",
    "1 - BARRA domain representing Australian continent <br />\n",
    "2 - hourly accumulated precipitation including rainfall and snowfall\n",
    "\n",
    "For more information on BARRA and the data used in this notebook, please see:"
   ]
  },
  {
   "cell_type": "code",
   "execution_count": 1,
   "metadata": {},
   "outputs": [
    {
     "name": "stderr",
     "output_type": "stream",
     "text": [
      "/g/data/v10/public/modules/dea-env/20190709/lib/python3.6/site-packages/dask/config.py:168: YAMLLoadWarning: calling yaml.load() without Loader=... is deprecated, as the default Loader is unsafe. Please read https://msg.pyyaml.org/load for full details.\n",
      "  data = yaml.load(f.read()) or {}\n",
      "/g/data/v10/public/modules/dea-env/20190709/lib/python3.6/site-packages/distributed/config.py:20: YAMLLoadWarning: calling yaml.load() without Loader=... is deprecated, as the default Loader is unsafe. Please read https://msg.pyyaml.org/load for full details.\n",
      "  defaults = yaml.load(f)\n"
     ]
    }
   ],
   "source": [
    "import datacube\n",
    "import rasterio\n",
    "import time\n",
    "import os\n",
    "from datacube.helpers import write_geotiff\n",
    "from matplotlib import pyplot\n",
    "from datacube.storage import masking\n"
   ]
  },
  {
   "cell_type": "markdown",
   "metadata": {},
   "source": [
    "## Optional helper functions"
   ]
  },
  {
   "cell_type": "code",
   "execution_count": 2,
   "metadata": {},
   "outputs": [],
   "source": [
    "def write_barra_data(filename, target_dataset, source_affine, nodata=-1.073741824):\n",
    "    profile_override = {'nodata': nodata, 'transform': source_affine}\n",
    "    write_geotiff(filename, target_dataset.squeeze(), profile_override=profile_override)"
   ]
  },
  {
   "cell_type": "code",
   "execution_count": 3,
   "metadata": {},
   "outputs": [],
   "source": [
    "def flip_barra_data(source_dataset, target_variable='accum_prcp'):\n",
    "    temp_dataarray = source_dataset[target_variable].reindex(latitude=source_dataset[target_variable].latitude[::-1])\n",
    "    target_dataset = temp_dataarray.to_dataset()\n",
    "    target_dataset.attrs = temp_dataarray.attrs\n",
    "    return target_dataset"
   ]
  },
  {
   "cell_type": "markdown",
   "metadata": {},
   "source": [
    "## Before loading BARRA data..."
   ]
  },
  {
   "cell_type": "code",
   "execution_count": 4,
   "metadata": {},
   "outputs": [],
   "source": [
    "# Because GDAL struggles with the BARRA NetCDF format we have two choices:\n",
    "# we leave everything unmolested but exruiciatingly slow\n",
    "# or\n",
    "# we use the following directive. This helps GDAL read the file\n",
    "# metadata correctly but it has the unfortunate side effect of flipping our data.\n",
    "# Depending on what other data sourced you are reading from , you may need to \n",
    "# explicitly set this flag back to YES to avoid any unforeseen consequences\n",
    "os.environ['GDAL_NETCDF_BOTTOMUP'] = 'NO'\n",
    "\n",
    "# you will need a datacube.conf file with the following:\n",
    "# [barra-dev]\n",
    "# db_hostname: agdcdev-db.nci.org.au\n",
    "# db_port: 6432\n",
    "# db_database: dg6911\n",
    "dc = datacube.Datacube(config='datacube.conf',env='barra-dev')"
   ]
  },
  {
   "cell_type": "markdown",
   "metadata": {},
   "source": [
    "## Querying BARRA data"
   ]
  },
  {
   "cell_type": "code",
   "execution_count": 6,
   "metadata": {},
   "outputs": [
    {
     "name": "stdout",
     "output_type": "stream",
     "text": [
      "8760\n",
      "744\n",
      "24\n",
      "1\n"
     ]
    }
   ],
   "source": [
    "# this paricular BARRA variable has hourly time steps\n",
    "\n",
    "barra_datasets = dc.find_datasets(product='accum_prcp',time='1990')\n",
    "print(len(barra_datasets))\n",
    "\n",
    "barra_datasets = dc.find_datasets(product='accum_prcp',time='1990-01')\n",
    "print(len(barra_datasets))\n",
    "\n",
    "barra_datasets = dc.find_datasets(product='accum_prcp',time='1990-01-01')\n",
    "print(len(barra_datasets))\n",
    "\n",
    "barra_datasets = dc.find_datasets(product='accum_prcp',time='1990-01-01T00:00:00.0000Z')\n",
    "print(len(barra_datasets))"
   ]
  },
  {
   "cell_type": "code",
   "execution_count": 44,
   "metadata": {},
   "outputs": [
    {
     "name": "stdout",
     "output_type": "stream",
     "text": [
      "<xarray.Dataset>\n",
      "Dimensions:     (latitude: 768, longitude: 1200, time: 1)\n",
      "Coordinates:\n",
      "  * time        (time) datetime64[ns] 1990-01-01T00:29:59.999999\n",
      "  * latitude    (latitude) float64 -64.95 -64.84 -64.73 ... 19.2 19.31 19.42\n",
      "  * longitude   (longitude) float64 65.06 65.17 65.28 ... 196.7 196.8 196.9\n",
      "Data variables:\n",
      "    accum_prcp  (time, latitude, longitude) float64 0.0 0.0 ... 0.03738 0.03768\n",
      "Attributes:\n",
      "    crs:      GEOGCS[\"unknown\",DATUM[\"unknown\",SPHEROID[\"Sphere\",6371229,0]],...\n"
     ]
    }
   ],
   "source": [
    "os.environ['GDAL_NETCDF_BOTTOMUP'] = 'NO'\n",
    "\n",
    "query = {}\n",
    "query['longitude'] = (146.7237, 150.6651)\n",
    "query['latitude'] = (-34.6732, -36.2835)\n",
    "query['crs'] = 'EPSG:4326'\n",
    "#query['resolution'] = (-12500, 12500)\n",
    "#query['output_crs'] = 'EPSG:3577'\n",
    "query['resampling'] = 'max'\n",
    "accum_prcp = dc.load(product='accum_prcp',\n",
    "                     time='1990-01-01T00:00:00.0000Z',\n",
    "                     #**query\n",
    "                    )\n",
    "print(accum_prcp)"
   ]
  },
  {
   "cell_type": "code",
   "execution_count": 38,
   "metadata": {},
   "outputs": [],
   "source": [
    "dc.load?"
   ]
  },
  {
   "cell_type": "code",
   "execution_count": 45,
   "metadata": {},
   "outputs": [
    {
     "data": {
      "text/plain": [
       "<matplotlib.image.AxesImage at 0x7fb3b6f03550>"
      ]
     },
     "execution_count": 45,
     "metadata": {},
     "output_type": "execute_result"
    },
    {
     "data": {
      "image/png": "[encoded data removed]",
      "text/plain": [
       "<Figure size 432x288 with 2 Axes>"
      ]
     },
     "metadata": {
      "needs_background": "light"
     },
     "output_type": "display_data"
    }
   ],
   "source": [
    "accum_prcp['accum_prcp'].squeeze().plot.imshow(cmap='plasma')"
   ]
  },
  {
   "cell_type": "code",
   "execution_count": 46,
   "metadata": {},
   "outputs": [],
   "source": [
    "new = accum_prcp['accum_prcp'].where(accum_prcp['accum_prcp'] >= 0.0, drop=True)"
   ]
  },
  {
   "cell_type": "code",
   "execution_count": 48,
   "metadata": {},
   "outputs": [
    {
     "data": {
      "text/plain": [
       "<xarray.DataArray 'accum_prcp' (time: 1, latitude: 768, longitude: 1200)>\n",
       "array([[[0.      , 0.      , ..., 0.      , 0.      ],\n",
       "        [0.      , 0.      , ..., 0.      , 0.      ],\n",
       "        ...,\n",
       "        [0.003258, 0.00344 , ..., 0.036559, 0.03688 ],\n",
       "        [0.003953, 0.004181, ..., 0.037376, 0.037677]]])\n",
       "Coordinates:\n",
       "  * time       (time) datetime64[ns] 1990-01-01T00:29:59.999999\n",
       "  * latitude   (latitude) float64 -64.95 -64.84 -64.73 ... 19.2 19.31 19.42\n",
       "  * longitude  (longitude) float64 65.06 65.17 65.28 65.39 ... 196.7 196.8 196.9\n",
       "Attributes:\n",
       "    units:    kg m-2\n",
       "    nodata:   -1073741824\n",
       "    crs:      GEOGCS[\"unknown\",DATUM[\"unknown\",SPHEROID[\"Sphere\",6371229,0]],..."
      ]
     },
     "execution_count": 48,
     "metadata": {},
     "output_type": "execute_result"
    }
   ],
   "source": [
    "new"
   ]
  },
  {
   "cell_type": "code",
   "execution_count": 47,
   "metadata": {},
   "outputs": [
    {
     "data": {
      "text/plain": [
       "<matplotlib.image.AxesImage at 0x7fb3b6e69588>"
      ]
     },
     "execution_count": 47,
     "metadata": {},
     "output_type": "execute_result"
    },
    {
     "data": {
      "image/png": "[encoded data removed]",
      "text/plain": [
       "<Figure size 432x288 with 2 Axes>"
      ]
     },
     "metadata": {
      "needs_background": "light"
     },
     "output_type": "display_data"
    }
   ],
   "source": [
    "new.squeeze().plot.imshow(cmap='plasma')"
   ]
  },
  {
   "cell_type": "markdown",
   "metadata": {},
   "source": [
    "## Slow Load vs Fast Load plus Flip"
   ]
  },
  {
   "cell_type": "code",
   "execution_count": null,
   "metadata": {},
   "outputs": [],
   "source": [
    "start = time.time()\n",
    "# Slow load\n",
    "os.environ['GDAL_NETCDF_BOTTOMUP'] = 'YES' #GDAL default is YES\n",
    "\n",
    "accum_prcp = dc.load(product='accum_prcp',\n",
    "                     time='2018-01-01T08:00:00.0000Z')\n",
    "accum_prcp['accum_prcp'].squeeze().plot.imshow(cmap='plasma')\n",
    "end = time.time()\n",
    "print(end - start)\n"
   ]
  },
  {
   "cell_type": "code",
   "execution_count": null,
   "metadata": {},
   "outputs": [],
   "source": [
    "start = time.time()\n",
    "# Fast load, no flip\n",
    "os.environ['GDAL_NETCDF_BOTTOMUP'] = 'NO' \n",
    "\n",
    "accum_prcp = dc.load(product='accum_prcp',\n",
    "                     time='2018-01-01T08:00:00.0000Z')\n",
    "accum_prcp['accum_prcp'].squeeze().plot.imshow(cmap='plasma')\n",
    "end = time.time()\n",
    "print(end - start)\n"
   ]
  },
  {
   "cell_type": "code",
   "execution_count": null,
   "metadata": {},
   "outputs": [],
   "source": [
    "# keep affine\n",
    "affine = accum_prcp['accum_prcp'].affine\n",
    "flipped_accum_prcp = flip_barra_data(accum_prcp)\n",
    "flipped_accum_prcp['accum_prcp'].squeeze().plot.imshow(cmap='plasma')"
   ]
  },
  {
   "cell_type": "markdown",
   "metadata": {},
   "source": [
    "## Writing BARRA as GeoTIFF"
   ]
  },
  {
   "cell_type": "code",
   "execution_count": null,
   "metadata": {},
   "outputs": [],
   "source": [
    "# following from above\n",
    "write_barra_data('20180101T0800Z_accum_prcp.tiff', flipped_accum_prcp, affine)"
   ]
  },
  {
   "cell_type": "markdown",
   "metadata": {},
   "source": [
    "## Producing summaries"
   ]
  },
  {
   "cell_type": "code",
   "execution_count": null,
   "metadata": {},
   "outputs": [],
   "source": [
    "start = time.time()\n",
    "# lets produce a monthly summary of total precipitation for January 2018\n",
    "accum_prcp = dc.load(product='accum_prcp',\n",
    "                     time='2018-01')\n",
    "total_day_accumprcp = accum_prcp['accum_prcp'].sum(dim='time')\n",
    "total_day_accumprcp.plot.imshow(cmap='plasma')\n",
    "end = time.time()\n",
    "print(end - start)"
   ]
  },
  {
   "cell_type": "code",
   "execution_count": null,
   "metadata": {},
   "outputs": [],
   "source": [
    "# keep affine\n",
    "affine = accum_prcp['accum_prcp'].affine\n",
    "# turn back into dataset\n",
    "total_day_accumprcp_dataset = total_day_accumprcp.to_dataset()\n",
    "total_day_accumprcp_dataset['accum_prcp'].attrs = accum_prcp['accum_prcp'].attrs\n",
    "\n",
    "#flip\n",
    "flipped_accum_prcp = flip_barra_data(total_day_accumprcp_dataset)\n",
    "#write to disk\n",
    "write_barra_data('201801_total_accum_prcp.tiff', flipped_accum_prcp, affine)"
   ]
  },
  {
   "cell_type": "markdown",
   "metadata": {},
   "source": [
    "## Load BARRA faster using DASK"
   ]
  },
  {
   "cell_type": "code",
   "execution_count": null,
   "metadata": {},
   "outputs": [],
   "source": [
    "import dask\n",
    "import dask.distributed\n",
    "\n",
    "client = dask.distributed.Client(n_workers=8,\n",
    "                                 threads_per_worker=1,\n",
    "                                 memory_limit='3G',\n",
    "                                 ip='127.0.0.1')\n",
    "client"
   ]
  },
  {
   "cell_type": "code",
   "execution_count": null,
   "metadata": {},
   "outputs": [],
   "source": [
    "accum = dc.load(product='accum_prcp',\n",
    "             dask_chunks={'time':6},\n",
    "               time='2018-01')\n",
    "\n",
    "display(accum)"
   ]
  },
  {
   "cell_type": "code",
   "execution_count": null,
   "metadata": {},
   "outputs": [],
   "source": [
    "## keep affine\n",
    "affine = accum['accum_prcp'].affine\n",
    "attrs = accum['accum_prcp'].attrs\n",
    "result = accum.compute()\n",
    "\n",
    "#total_day_accumprcp =.sum(dim='time')"
   ]
  },
  {
   "cell_type": "code",
   "execution_count": null,
   "metadata": {},
   "outputs": [],
   "source": [
    "result.min()"
   ]
  },
  {
   "cell_type": "code",
   "execution_count": null,
   "metadata": {},
   "outputs": [],
   "source": [
    "new = result['accum_prcp'].where(result['accum_prcp'] >= 0.0, drop=True)"
   ]
  },
  {
   "cell_type": "code",
   "execution_count": null,
   "metadata": {},
   "outputs": [],
   "source": [
    "new.min()"
   ]
  },
  {
   "cell_type": "code",
   "execution_count": null,
   "metadata": {},
   "outputs": [],
   "source": [
    "total_day_accumprcp =new.sum(dim='time')"
   ]
  },
  {
   "cell_type": "code",
   "execution_count": null,
   "metadata": {},
   "outputs": [],
   "source": [
    "total_day_accumprcp"
   ]
  },
  {
   "cell_type": "code",
   "execution_count": null,
   "metadata": {},
   "outputs": [],
   "source": [
    "total_day_accumprcp = total_day_accumprcp.compute()\n",
    "total_day_accumprcp.data"
   ]
  },
  {
   "cell_type": "code",
   "execution_count": null,
   "metadata": {},
   "outputs": [],
   "source": []
  },
  {
   "cell_type": "code",
   "execution_count": null,
   "metadata": {},
   "outputs": [],
   "source": [
    "start = time.time()\n",
    "#total_day_accumprcp['accum_prcp'].plot().imshow(cmap='plasma')\n",
    "total_day_accumprcp['accum_prcp'].squeeze().plot.imshow(cmap='plasma')\n",
    "end = time.time()\n",
    "print(end - start)"
   ]
  },
  {
   "cell_type": "code",
   "execution_count": null,
   "metadata": {},
   "outputs": [],
   "source": [
    "total_day_accumprcp.min()"
   ]
  },
  {
   "cell_type": "code",
   "execution_count": null,
   "metadata": {},
   "outputs": [],
   "source": [
    "## turn back into dataset\n",
    "total_day_accumprcp_dataset = total_day_accumprcp.to_dataset()\n",
    "total_day_accumprcp_dataset['accum_prcp'].attrs = attrs\n",
    "\n",
    "##flip\n",
    "flipped_accum_prcp = flip_barra_data(total_day_accumprcp_dataset)\n",
    "##write to disk\n",
    "write_barra_data('201801_total_accum_prcp.tiff', flipped_accum_prcp, affine)"
   ]
  }
 ],
 "metadata": {
  "kernelspec": {
   "display_name": "Python 3",
   "language": "python",
   "name": "python3"
  },
  "language_info": {
   "codemirror_mode": {
    "name": "ipython",
    "version": 3
   },
   "file_extension": ".py",
   "mimetype": "text/x-python",
   "name": "python",
   "nbconvert_exporter": "python",
   "pygments_lexer": "ipython3",
   "version": "3.6.7"
  }
 },
 "nbformat": 4,
 "nbformat_minor": 2
}
