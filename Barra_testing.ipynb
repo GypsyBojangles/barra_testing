{
 "cells": [
  {
   "cell_type": "code",
   "execution_count": 1,
   "metadata": {},
   "outputs": [],
   "source": [
    "import datacube\n",
    "import time\n",
    "import rasterio\n",
    "from matplotlib import pyplot\n",
    "\n",
    "dc = datacube.Datacube()"
   ]
  },
  {
   "cell_type": "code",
   "execution_count": null,
   "metadata": {},
   "outputs": [],
   "source": [
    "dc.list_products()"
   ]
  },
  {
   "cell_type": "code",
   "execution_count": null,
   "metadata": {},
   "outputs": [],
   "source": [
    "start = time.time()\n",
    "accum_prcp = dc.load(product='accum_prcp')\n",
    "#accum_prcp = dc.load(product='accum_prcp',id='1311c672-c2c5-5911-a2e5-2a76f487c143')\n",
    "end = time.time()\n",
    "print(end - start)\n",
    "\n",
    "\n",
    "\n",
    "#accum_prcp2 = dc.load(product='accum_prcp',id='9bec1213-ed93-5cbc-9e39-893ec90961b8')\n",
    "#accum_prcp = dc.load(product='accum_prcp', output_crs='epsg:3577', resolution=(-12500,12500))"
   ]
  },
  {
   "cell_type": "code",
   "execution_count": null,
   "metadata": {},
   "outputs": [],
   "source": [
    "accum_prcp"
   ]
  },
  {
   "cell_type": "code",
   "execution_count": null,
   "metadata": {},
   "outputs": [],
   "source": [
    "total_day_accumprcp = accum_prcp['accum_prcp'].sum(dim='time')"
   ]
  },
  {
   "cell_type": "code",
   "execution_count": null,
   "metadata": {},
   "outputs": [],
   "source": [
    "pyplot.imshow(total_day_accumprcp, cmap='pink')"
   ]
  },
  {
   "cell_type": "code",
   "execution_count": null,
   "metadata": {},
   "outputs": [],
   "source": [
    "accum_prcp2 = dc.load(product='accum_prcp',id='9bec1213-ed93-5cbc-9e39-893ec90961b8')"
   ]
  },
  {
   "cell_type": "code",
   "execution_count": null,
   "metadata": {},
   "outputs": [],
   "source": [
    "accum_prcp2"
   ]
  },
  {
   "cell_type": "code",
   "execution_count": null,
   "metadata": {},
   "outputs": [],
   "source": [
    "pyplot.imshow(accum_prcp2['accum_prcp'].squeeze(), cmap='pink')\n"
   ]
  },
  {
   "cell_type": "code",
   "execution_count": null,
   "metadata": {},
   "outputs": [],
   "source": [
    "pyplot.imshow(accum_prcp['accum_prcp'].squeeze(), cmap='pink')\n"
   ]
  },
  {
   "cell_type": "code",
   "execution_count": null,
   "metadata": {},
   "outputs": [],
   "source": [
    "total_day_accumprcp = accum_prcp['accum_prcp'].sum(dim='time')"
   ]
  },
  {
   "cell_type": "code",
   "execution_count": null,
   "metadata": {},
   "outputs": [],
   "source": [
    "start = time.time()\n",
    "src = rasterio.open('NetCDF:\"/home/david/Downloads/BARRA/accum_prcp-fc-spec-PT1H-BARRA_R-v1-19920302T0000Z.sub.nc\":accum_prcp')\n",
    "img=src.read(4)\n",
    "end = time.time()\n",
    "print(end - start)"
   ]
  },
  {
   "cell_type": "code",
   "execution_count": null,
   "metadata": {},
   "outputs": [],
   "source": [
    "pyplot.imshow(img, cmap='pink')"
   ]
  },
  {
   "cell_type": "code",
   "execution_count": null,
   "metadata": {},
   "outputs": [],
   "source": [
    "with rasterio.open('NetCDF:\"/home/david/Downloads/BARRA/accum_prcp-fc-spec-PT1H-BARRA_R-v1-19920302T0000Z.sub.nc\":accum_prcp', 'r') as img:\n",
    "    left, bottom, right, top = [i for i in img.bounds]\n",
    "    spatial_reference = str(\n",
    "        str(getattr(img, 'crs_wkt', None) or img.crs.wkt))\n",
    "    res = img.res\n",
    "    #return left, bottom, right, top, spatial_reference, res\n",
    "    print(left)\n",
    "    print(bottom)\n",
    "    print(right)\n",
    "    print(top)\n",
    "    print(spatial_reference)\n",
    "    print(res)"
   ]
  },
  {
   "cell_type": "code",
   "execution_count": 2,
   "metadata": {},
   "outputs": [
    {
     "data": {
      "text/html": [
       "<table style=\"border: 2px solid white;\">\n",
       "<tr>\n",
       "<td style=\"vertical-align: top; border: 0px solid white\">\n",
       "<h3>Client</h3>\n",
       "<ul>\n",
       "  <li><b>Scheduler: </b>tcp://127.0.0.1:40433\n",
       "  <li><b>Dashboard: </b><a href='http://127.0.0.1:8787/status' target='_blank'>http://127.0.0.1:8787/status</a>\n",
       "</ul>\n",
       "</td>\n",
       "<td style=\"vertical-align: top; border: 0px solid white\">\n",
       "<h3>Cluster</h3>\n",
       "<ul>\n",
       "  <li><b>Workers: </b>2</li>\n",
       "  <li><b>Cores: </b>2</li>\n",
       "  <li><b>Memory: </b>2.68 GB</li>\n",
       "</ul>\n",
       "</td>\n",
       "</tr>\n",
       "</table>"
      ],
      "text/plain": [
       "<Client: scheduler='tcp://127.0.0.1:40433' processes=2 cores=2>"
      ]
     },
     "execution_count": 2,
     "metadata": {},
     "output_type": "execute_result"
    }
   ],
   "source": [
    "import dask\n",
    "import dask.distributed\n",
    "\n",
    "client = dask.distributed.Client(n_workers=2,\n",
    "                                 threads_per_worker=1,\n",
    "                                 processes=False, \n",
    "                                 ip='127.0.0.1')\n",
    "client"
   ]
  },
  {
   "cell_type": "code",
   "execution_count": 3,
   "metadata": {},
   "outputs": [
    {
     "name": "stdout",
     "output_type": "stream",
     "text": [
      "Number of chunks per band: 24x1x1\n"
     ]
    },
    {
     "data": {
      "text/plain": [
       "<xarray.Dataset>\n",
       "Dimensions:     (latitude: 769, longitude: 1201, time: 24)\n",
       "Coordinates:\n",
       "  * time        (time) datetime64[ns] 1992-03-02T00:29:59.999999 ... 1992-03-02T23:29:59.999999\n",
       "  * latitude    (latitude) float64 19.53 19.42 19.31 ... -64.74 -64.85 -64.96\n",
       "  * longitude   (longitude) float64 64.96 65.07 65.18 ... 196.7 196.8 197.0\n",
       "Data variables:\n",
       "    accum_prcp  (time, latitude, longitude) float64 dask.array<shape=(24, 769, 1201), chunksize=(1, 769, 1201)>\n",
       "Attributes:\n",
       "    crs:      GEOGCS[\"unknown\",DATUM[\"unknown\",SPHEROID[\"Sphere\",6371229,0]],..."
      ]
     },
     "metadata": {},
     "output_type": "display_data"
    },
    {
     "name": "stdout",
     "output_type": "stream",
     "text": [
      "CPU times: user 74.5 ms, sys: 16.5 ms, total: 91.1 ms\n",
      "Wall time: 184 ms\n"
     ]
    }
   ],
   "source": [
    "%%time\n",
    "xx = dc.load(product='accum_prcp',\n",
    "             dask_chunks={'longitude': 2000, 'latitude': 2000})\n",
    "\n",
    "print(\"Number of chunks per band: {}x{}x{}\".format(*xx.accum_prcp.data.to_delayed().shape))\n",
    "display(xx)"
   ]
  },
  {
   "cell_type": "code",
   "execution_count": 4,
   "metadata": {},
   "outputs": [
    {
     "name": "stdout",
     "output_type": "stream",
     "text": [
      "CPU times: user 4.05 ms, sys: 3.28 ms, total: 7.34 ms\n",
      "Wall time: 10.5 ms\n"
     ]
    }
   ],
   "source": [
    "%%time\n",
    "total_day_accumprcp = xx['accum_prcp'].sum(dim='time')"
   ]
  },
  {
   "cell_type": "code",
   "execution_count": null,
   "metadata": {},
   "outputs": [],
   "source": [
    "%%time\n",
    "pyplot.imshow(total_day_accumprcp, cmap='pink')"
   ]
  }
 ],
 "metadata": {
  "kernelspec": {
   "display_name": "Python 3",
   "language": "python",
   "name": "python3"
  },
  "language_info": {
   "codemirror_mode": {
    "name": "ipython",
    "version": 3
   },
   "file_extension": ".py",
   "mimetype": "text/x-python",
   "name": "python",
   "nbconvert_exporter": "python",
   "pygments_lexer": "ipython3",
   "version": "3.6.7"
  }
 },
 "nbformat": 4,
 "nbformat_minor": 2
}
