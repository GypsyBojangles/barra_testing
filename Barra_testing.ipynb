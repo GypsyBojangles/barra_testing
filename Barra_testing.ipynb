{
 "cells": [
  {
   "cell_type": "code",
   "execution_count": null,
   "metadata": {},
   "outputs": [],
   "source": [
    "import datacube\n",
    "import time\n",
    "import rasterio\n",
    "import os\n",
    "from matplotlib import pyplot\n",
    "\n",
    "dc = datacube.Datacube()"
   ]
  },
  {
   "cell_type": "code",
   "execution_count": null,
   "metadata": {},
   "outputs": [],
   "source": [
    "dc.list_products()"
   ]
  },
  {
   "cell_type": "code",
   "execution_count": null,
   "metadata": {},
   "outputs": [],
   "source": [
    "os.environ['GDAL_NETCDF_BOTTOMUP'] = 'NO'"
   ]
  },
  {
   "cell_type": "code",
   "execution_count": null,
   "metadata": {},
   "outputs": [],
   "source": [
    "start = time.time()\n",
    "\n",
    "accum_prcp = dc.load(product='accum_prcp')\n",
    "#accum_prcp = dc.load(product='accum_prcp',id='1311c672-c2c5-5911-a2e5-2a76f487c143')\n",
    "end = time.time()\n",
    "print(end - start)\n",
    "\n",
    "\n",
    "\n",
    "#accum_prcp2 = dc.load(product='accum_prcp',id='9bec1213-ed93-5cbc-9e39-893ec90961b8')\n",
    "#accum_prcp = dc.load(product='accum_prcp', output_crs='epsg:3577', resolution=(-12500,12500))"
   ]
  },
  {
   "cell_type": "code",
   "execution_count": null,
   "metadata": {},
   "outputs": [],
   "source": [
    "accum_prcp"
   ]
  },
  {
   "cell_type": "code",
   "execution_count": null,
   "metadata": {},
   "outputs": [],
   "source": [
    "total_day_accumprcp = accum_prcp['accum_prcp'].sum(dim='time')"
   ]
  },
  {
   "cell_type": "code",
   "execution_count": null,
   "metadata": {},
   "outputs": [],
   "source": [
    "pyplot.imshow(total_day_accumprcp, cmap='pink')"
   ]
  },
  {
   "cell_type": "code",
   "execution_count": null,
   "metadata": {},
   "outputs": [],
   "source": [
    "accum_prcp2 = dc.load(product='accum_prcp',id='9bec1213-ed93-5cbc-9e39-893ec90961b8')"
   ]
  },
  {
   "cell_type": "code",
   "execution_count": null,
   "metadata": {},
   "outputs": [],
   "source": [
    "accum_prcp2"
   ]
  },
  {
   "cell_type": "code",
   "execution_count": null,
   "metadata": {},
   "outputs": [],
   "source": [
    "pyplot.imshow(accum_prcp2['accum_prcp'].squeeze(), cmap='pink')\n"
   ]
  },
  {
   "cell_type": "code",
   "execution_count": null,
   "metadata": {},
   "outputs": [],
   "source": [
    "pyplot.imshow(accum_prcp['accum_prcp'].squeeze(), cmap='pink')\n"
   ]
  },
  {
   "cell_type": "code",
   "execution_count": null,
   "metadata": {},
   "outputs": [],
   "source": [
    "total_day_accumprcp = accum_prcp['accum_prcp'].sum(dim='time')"
   ]
  },
  {
   "cell_type": "code",
   "execution_count": null,
   "metadata": {},
   "outputs": [],
   "source": [
    "start = time.time()\n",
    "src = rasterio.open('NetCDF:\"/home/david/Downloads/BARRA/accum_prcp-fc-spec-PT1H-BARRA_R-v1-19920302T0000Z.sub.nc\":accum_prcp')\n",
    "img=src.read(4)\n",
    "end = time.time()\n",
    "print(end - start)"
   ]
  },
  {
   "cell_type": "code",
   "execution_count": null,
   "metadata": {},
   "outputs": [],
   "source": [
    "pyplot.imshow(img, cmap='pink')"
   ]
  },
  {
   "cell_type": "code",
   "execution_count": null,
   "metadata": {},
   "outputs": [],
   "source": [
    "with rasterio.open('NetCDF:\"/home/david/Downloads/BARRA/accum_prcp-fc-spec-PT1H-BARRA_R-v1-19920302T0000Z.sub.nc\":accum_prcp', 'r') as img:\n",
    "    left, bottom, right, top = [i for i in img.bounds]\n",
    "    spatial_reference = str(\n",
    "        str(getattr(img, 'crs_wkt', None) or img.crs.wkt))\n",
    "    res = img.res\n",
    "    #return left, bottom, right, top, spatial_reference, res\n",
    "    print(left)\n",
    "    print(bottom)\n",
    "    print(right)\n",
    "    print(top)\n",
    "    print(spatial_reference)\n",
    "    print(res)"
   ]
  },
  {
   "cell_type": "code",
   "execution_count": null,
   "metadata": {},
   "outputs": [],
   "source": [
    "import dask\n",
    "import dask.distributed\n",
    "\n",
    "client = dask.distributed.Client(n_workers=8,\n",
    "                                 threads_per_worker=1,\n",
    "                                 ip='127.0.0.1')\n",
    "client"
   ]
  },
  {
   "cell_type": "code",
   "execution_count": null,
   "metadata": {},
   "outputs": [],
   "source": [
    "%%time\n",
    "xx = dc.load(product='accum_prcp',\n",
    "             dask_chunks={'time':6})\n",
    "\n",
    "print(\"Number of chunks per band: {}x{}x{}\".format(*xx.accum_prcp.data.to_delayed().shape))\n",
    "display(xx)"
   ]
  },
  {
   "cell_type": "code",
   "execution_count": null,
   "metadata": {},
   "outputs": [],
   "source": [
    "%%time\n",
    "total_day_accumprcp = xx['accum_prcp'].sum(dim='time')"
   ]
  },
  {
   "cell_type": "code",
   "execution_count": null,
   "metadata": {},
   "outputs": [],
   "source": [
    "%%time\n",
    "pyplot.imshow(total_day_accumprcp, cmap='pink')"
   ]
  }
 ],
 "metadata": {
  "kernelspec": {
   "display_name": "Python 3",
   "language": "python",
   "name": "python3"
  },
  "language_info": {
   "codemirror_mode": {
    "name": "ipython",
    "version": 3
   },
   "file_extension": ".py",
   "mimetype": "text/x-python",
   "name": "python",
   "nbconvert_exporter": "python",
   "pygments_lexer": "ipython3",
   "version": "3.6.7"
  }
 },
 "nbformat": 4,
 "nbformat_minor": 2
}
